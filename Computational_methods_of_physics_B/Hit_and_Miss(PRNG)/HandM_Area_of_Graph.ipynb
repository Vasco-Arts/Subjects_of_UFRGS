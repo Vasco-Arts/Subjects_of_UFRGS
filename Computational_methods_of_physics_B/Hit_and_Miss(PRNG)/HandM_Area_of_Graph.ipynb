{
  "nbformat": 4,
  "nbformat_minor": 0,
  "metadata": {
    "colab": {
      "provenance": [],
      "collapsed_sections": [],
      "authorship_tag": "ABX9TyPgkjD8X/zqqo9a7wSB2txQ"
    },
    "kernelspec": {
      "name": "python3",
      "display_name": "Python 3"
    },
    "language_info": {
      "name": "python"
    }
  },
  "cells": [
    {
      "cell_type": "markdown",
      "source": [
        "**$\\underline{Hit\\hspace{0.2cm} \\& \\hspace{0.2cm} Miss\\hspace{0.2cm} method}$**"
      ],
      "metadata": {
        "id": "BFXuj_jBp6KD"
      }
    },
    {
      "cell_type": "markdown",
      "source": [
        "With this method can we calculate the area of ​​a graph by raffling random numbers and checking if those numbers are within the graph function."
      ],
      "metadata": {
        "id": "f34oN-e6qctJ"
      }
    },
    {
      "cell_type": "markdown",
      "source": [
        "To do such a thing, the first step is to choose the area of ​​a square, where it will be bombarded with random numbers (the desired area must be within the area of ​​the square). This area has to be as close as possible to the desired area, the closer, the more accurate the calculation will be (in the example we will understand better). \n",
        "\n",
        "After that, the next step is to generate random numbers inside the square, and check if these numbers are inside or outside the function (or functions) in which we want to know the area.\n",
        "\n",
        "There is no standardized algorithm, it will depend on each desired area."
      ],
      "metadata": {
        "id": "2j7jx1kTr7G9"
      }
    },
    {
      "cell_type": "markdown",
      "source": [
        "# $1^{st}$ Example:"
      ],
      "metadata": {
        "id": "NISGNUGnvM7c"
      }
    },
    {
      "cell_type": "markdown",
      "source": [
        "We have an ellipse and on top of it, a parabola (with its trough at the center of the ellipse), we want the area that they share with each other. The coordinates of the maximum distances on the x and y axis are (counting from the center) $x = (0,2)$ and $y = (0,4)$. The parabola is facing to the right.\n",
        "\n",
        "- The parabola function: $x = y^2$\n",
        "\n",
        "\n",
        "- The ellipse function: $x^2 + \\frac{y^2}{4} = 4$"
      ],
      "metadata": {
        "id": "1h_sQODyvM3z"
      }
    },
    {
      "cell_type": "markdown",
      "source": [
        "**THE SQUARE:** The area of ​​the square must cover the entire area where the parabola and ellipse have in common. So our area of ​​interest of the parabola is only the one that is inside the ellipse and we can limit the square to fit the area of parabola that is inside the ellipse.\n"
      ],
      "metadata": {
        "id": "A0NAOckOyoBT"
      }
    },
    {
      "cell_type": "markdown",
      "source": [
        "Since the parabola is facing to the right, and we know the maximum point of the ellipse on the right, so the base of the square will be $x = (0,2) = 2$.\n",
        "\n",
        "The parabola ends (within the ellipse) at about half the total distance from the y-axis, so the half of the parabola goes from 0 to 2, so the entire parabola goes from -2 to 2 and so the total height of the square is 4. $y = (-2,2) = 4$ (this is not specified, so it is just a guess based only a view).\n",
        "\n",
        "We realize that since the length is 2 and the height is 4, we have a rectangle and not a square, but that's okay.\n",
        "\n",
        "It is inside this rectangle that the random values (with x and y coordinates) ​​will be placed."
      ],
      "metadata": {
        "id": "wluUU4_l0xcW"
      }
    },
    {
      "cell_type": "markdown",
      "source": [
        "To calculate the x and y coordinates that the random numbers will have (inside the rectangle), we use the following expression:\n",
        "\n",
        "$x =$ a.rand()$-$b and $y=$ a.rand()$-$b. Calculating the lower and upper bounds of x and y. "
      ],
      "metadata": {
        "id": "2ZeESU5R4ist"
      }
    },
    {
      "cell_type": "markdown",
      "source": [
        "To find the specific expression for this figure, let's consider the extreme numbers that the random generator can generate, in this case it is 0 (minimum) and 1 (maximum) (it generates values ​​from 0 to 1)."
      ],
      "metadata": {
        "id": "hwzjec396OpE"
      }
    },
    {
      "cell_type": "markdown",
      "source": [
        "- **To x coordinate, the lower bound is 0 and the upper bound is 2:** \n",
        "\n",
        "-- rand() = 0 for the lower limit of the x-axis, which is zero:\n",
        "\n",
        "$\\hookrightarrow$ a.0 + b = 0 $→$ b = 0\n",
        "\n",
        "-- rand() = 1 for the upper limit of the x-axis, which is two:\n",
        "\n",
        "$↪$ a.1 + b = 2 $→$ a.1 + 0 = 2 $→$ a = 2\n",
        "\n",
        "So we have a = 2 and b = 0, putting in the expression of $x$ we get $x = 2.$rand()$-0 = 2.$rand(), so\n",
        "\n",
        "$x = 2.$rand()"
      ],
      "metadata": {
        "id": "jCQGaV7k3pvO"
      }
    },
    {
      "cell_type": "markdown",
      "source": [
        "- **To y coordinate, the lower bound is -2 and the upper bound is 2:** \n",
        "\n",
        "-- rand() = 0 for the lower limit of the y-axis, which is minus two:\n",
        "\n",
        "$\\hookrightarrow$ a.0 + b = -2 $→$ b = -2\n",
        "\n",
        "-- rand() = 1 for the upper limit of the y-axis, which is two:\n",
        "\n",
        "$↪$ a.1 + b = 2 $→$ a.1 - 2 = 2 $→$ a = 4\n",
        "\n",
        "So we have a = 4 and b = -2, putting in the expression of $y$ we get $y = 4.$rand()$-(-2) = 4.$rand() + 2, so\n",
        "\n",
        "$y = 4.$rand() + 2"
      ],
      "metadata": {
        "id": "9N6h49vn8YRH"
      }
    },
    {
      "cell_type": "markdown",
      "source": [
        "Now we are going to generate an amount N of random numbers, each number will have a coordinate (x,y) within these limits that we impose $y = 4.$rand() + 2 and $x = 2.$rand()"
      ],
      "metadata": {
        "id": "pbBuPSqZ9fTw"
      }
    },
    {
      "cell_type": "markdown",
      "source": [
        "In the algorithm, when we put a f(x,y) > radius, for a circle or something closed we mean an f(x,y) that is outside this object, if it is f(x,y) < r, then it is inside the object. For a line or something like this (parabola, it's more intuitive, if f(x,y) > r is literally points above the line, for example)."
      ],
      "metadata": {
        "id": "3SxVNMG6GviE"
      }
    },
    {
      "cell_type": "code",
      "source": [
        "import numpy as np\n",
        "import matplotlib.pyplot as plt\n",
        "import random\n",
        "N = 10000 # Number of numbers drawn.\n",
        "\n",
        "# Random number generator\n",
        "a,b,c = 1029,221591,1048576\n",
        "seed = 3072\n",
        "def rand(): # Generates values ​​between 0 to 1.\n",
        "  global seed\n",
        "  seed = (a * seed + b)%c\n",
        "  return float(seed/c)\n",
        "\n",
        "# Functions:\n",
        "d,e = 1,4\n",
        "def f(x,y):\n",
        "  r = (x**2)/d + (y**2)/e - 4 # In this way, the equation of the ellipse (x**2)/d + (y**2)/e = 4 becomes (x**2)/d + (y**2)/e - 4 = 0\n",
        "  return r # And instead of putting if <= 4, we can put if <= 0 \n",
        "\n",
        "def f2(x,y):\n",
        "  r = x - y**2 # y = x^2 -> x^2 - y = 0, the Radius = 0, That's why if >= 0, above or equal to 0 is above or superimposed on the parabola.\n",
        "  return r\n",
        "\n",
        "count1,count2 = 0,0 # counts.\n",
        "list_x1,list_y1 = [],[]\n",
        "list_x2,list_y2 = [],[]\n",
        "\n",
        "for i in range(N):\n",
        "  x = 2 * rand()\n",
        "  y = 4 * rand() - 2\n",
        "  \n",
        "  '''x = 8 * rand() - 4\n",
        "  y = 8 * rand() - 4'''\n",
        "\n",
        "  if f(x,y) <= 0: # if function <= or >= Radius (in case x^2/a + y^2/b = R^2), if x and y that are inside the ellipse.\n",
        "    if f2(x,y) >= 0: # x^2 - y^2 = R^2, if x and y that are inside the parabola.\n",
        "      count1 =+ 1 # Point count within the parabola and ellipse area.\n",
        "      list_x1.append(x) \n",
        "      list_y1.append(y)\n",
        "    else:\n",
        "      count2 =+ 1 # Point count within the ellipse but below parabola area.\n",
        "      list_x2.append(x)\n",
        "      list_y2.append(y)\n",
        "\n",
        "plt.scatter(list_x1,list_y1)\n",
        "plt.scatter(list_x2,list_y2)"
      ],
      "metadata": {
        "colab": {
          "base_uri": "https://localhost:8080/",
          "height": 282
        },
        "id": "VW1LcxvJ-I_2",
        "outputId": "ab0dcda2-e7d5-47a0-8437-8ae184d2ed59"
      },
      "execution_count": null,
      "outputs": [
        {
          "output_type": "execute_result",
          "data": {
            "text/plain": [
              "<matplotlib.collections.PathCollection at 0x7f5f4659fb50>"
            ]
          },
          "metadata": {},
          "execution_count": 4
        },
        {
          "output_type": "display_data",
          "data": {
            "text/plain": [
              "<Figure size 432x288 with 1 Axes>"
            ],
            "image/png": "[encoded data removed]"
          },
          "metadata": {
            "needs_background": "light"
          }
        }
      ]
    },
    {
      "cell_type": "markdown",
      "source": [
        "Changing the size of the rectangle to see the better image:"
      ],
      "metadata": {
        "id": "hsWzkQLvDgGa"
      }
    },
    {
      "cell_type": "code",
      "source": [
        "import numpy as np\n",
        "import matplotlib.pyplot as plt\n",
        "import random\n",
        "N = 10000 # Number of numbers drawn.\n",
        "\n",
        "# Random number generator\n",
        "a,b,c = 1029,221591,1048576\n",
        "seed = 3072\n",
        "def rand(): # Generates values ​​between 0 to 1.\n",
        "  global seed\n",
        "  seed = (a * seed + b)%c\n",
        "  return float(seed/c)\n",
        "\n",
        "# Functions:\n",
        "d,e = 1,4\n",
        "def f(x,y):\n",
        "  r = (x**2)/d + (y**2)/e - 4 # In this way, the equation of the ellipse (x**2)/d + (y**2)/e = 4 becomes (x**2)/d + (y**2)/e - 4 = 0\n",
        "  return r # And instead of putting if <= 4, we can put if <= 0 \n",
        "\n",
        "def f2(x,y):\n",
        "  r = x - y**2 # y = x^2 -> x^2 - y = 0, the Radius = 0, That's why if >= 0, above or equal to 0 is above or superimposed on the parabola.\n",
        "  return r\n",
        "\n",
        "count1,count2 = 0,0 # counts.\n",
        "list_x1,list_y1 = [],[]\n",
        "list_x2,list_y2 = [],[]\n",
        "\n",
        "for i in range(N):\n",
        "  '''x = 2 * rand()\n",
        "  y = 4 * rand() - 2'''\n",
        "  \n",
        "  x = 8 * rand() - 4\n",
        "  y = 8 * rand() - 4\n",
        "\n",
        "  if f(x,y) <= 0: # if function <= or >= Radius (in case x^2/a + y^2/b = R^2), if x and y that are inside the ellipse.\n",
        "    if f2(x,y) >= 0: # x^2 - y^2 = R^2, if x and y that are inside the parabola.\n",
        "      count1 =+ 1 # Point count within the parabola and ellipse area.\n",
        "      list_x1.append(x) \n",
        "      list_y1.append(y)\n",
        "    else:\n",
        "      count2 =+ 1 # Point count within the ellipse but below parabola area.\n",
        "      list_x2.append(x)\n",
        "      list_y2.append(y)\n",
        "\n",
        "plt.scatter(list_x1,list_y1)\n",
        "plt.scatter(list_x2,list_y2)"
      ],
      "metadata": {
        "colab": {
          "base_uri": "https://localhost:8080/",
          "height": 282
        },
        "id": "yBJdUKuRD4IS",
        "outputId": "4be75452-b927-4273-d652-7a3203f3deb6"
      },
      "execution_count": null,
      "outputs": [
        {
          "output_type": "execute_result",
          "data": {
            "text/plain": [
              "<matplotlib.collections.PathCollection at 0x7f5f45fcb590>"
            ]
          },
          "metadata": {},
          "execution_count": 7
        },
        {
          "output_type": "display_data",
          "data": {
            "text/plain": [
              "<Figure size 432x288 with 1 Axes>"
            ],
            "image/png": "[encoded data removed]"
          },
          "metadata": {
            "needs_background": "light"
          }
        }
      ]
    },
    {
      "cell_type": "markdown",
      "source": [
        "The entire area of ​​the parabola:"
      ],
      "metadata": {
        "id": "QuSufwshFJ63"
      }
    },
    {
      "cell_type": "code",
      "source": [
        "import numpy as np\n",
        "import matplotlib.pyplot as plt\n",
        "import random\n",
        "N = 10000 # Number of numbers drawn.\n",
        "\n",
        "# Random number generator\n",
        "a,b,c = 1029,221591,1048576\n",
        "seed = 3072\n",
        "def rand(): # Generates values ​​between 0 to 1.\n",
        "  global seed\n",
        "  seed = (a * seed + b)%c\n",
        "  return float(seed/c)\n",
        "\n",
        "# Functions:\n",
        "d,e = 1,4\n",
        "def f(x,y):\n",
        "  r = (x**2)/d + (y**2)/e - 4 # In this way, the equation of the ellipse (x**2)/d + (y**2)/e = 4 becomes (x**2)/d + (y**2)/e - 4 = 0\n",
        "  return r # And instead of putting if <= 4, we can put if <= 0 \n",
        "\n",
        "def f2(x,y):\n",
        "  r = x - y**2 # y = x^2 -> x^2 - y = 0, the Radius = 0, That's why if >= 0, above or equal to 0 is above or superimposed on the parabola.\n",
        "  return r\n",
        "\n",
        "count1,count2,count3 = 0,0,0 # counts.\n",
        "list_x1,list_y1 = [],[]\n",
        "list_x2,list_y2 = [],[]\n",
        "list_x3,list_y3 = [],[]\n",
        "\n",
        "for i in range(N):\n",
        "  '''x = 2 * rand()\n",
        "  y = 4 * rand() - 2'''\n",
        "  \n",
        "  x = 8 * rand() - 4\n",
        "  y = 8 * rand() - 4\n",
        "\n",
        "  if f(x,y) <= 0: # if function <= or >= Radius (in case x^2/a + y^2/b = R^2), if x and y that are inside the ellipse.\n",
        "    if f2(x,y) >= 0: # x^2 - y^2 = R^2, if x and y that are inside the parabola.\n",
        "      count1 =+ 1 # Point count within the parabola and ellipse area.\n",
        "      list_x1.append(x) \n",
        "      list_y1.append(y)\n",
        "    else:\n",
        "      count2 =+ 1 # Point count within the ellipse but below parabola area.\n",
        "      list_x2.append(x)\n",
        "      list_y2.append(y)\n",
        "  if f2(x,y) >= 0: \n",
        "        count3 =+ 1 \n",
        "        list_x3.append(x) \n",
        "        list_y3.append(y)\n",
        "\n",
        "\n",
        "plt.scatter(list_x1,list_y1)\n",
        "plt.scatter(list_x2,list_y2)\n",
        "plt.scatter(list_x3,list_y3)"
      ],
      "metadata": {
        "colab": {
          "base_uri": "https://localhost:8080/",
          "height": 282
        },
        "id": "bLg8__f0FUSm",
        "outputId": "9a42284b-8a9e-4c04-fc19-8483e7f5a21b"
      },
      "execution_count": null,
      "outputs": [
        {
          "output_type": "execute_result",
          "data": {
            "text/plain": [
              "<matplotlib.collections.PathCollection at 0x7f5f45c0bc50>"
            ]
          },
          "metadata": {},
          "execution_count": 18
        },
        {
          "output_type": "display_data",
          "data": {
            "text/plain": [
              "<Figure size 432x288 with 1 Axes>"
            ],
            "image/png": "[encoded data removed]"
          },
          "metadata": {
            "needs_background": "light"
          }
        }
      ]
    },
    {
      "cell_type": "markdown",
      "source": [
        "# $2^{nd}$ Example:"
      ],
      "metadata": {
        "id": "G81HHZ4iGFma"
      }
    },
    {
      "cell_type": "markdown",
      "source": [
        "This here is more complicated, we have three circles with only one intersection between them (in only one point), and a line that passes through $y$ = -2, we want the area between the circles and above the line.\n",
        "\n",
        "we have one circle on top of two others, it touches both, these two below are separated from each other, we want this area between them and above the line."
      ],
      "metadata": {
        "id": "DQLjG1fdGSf3"
      }
    },
    {
      "cell_type": "markdown",
      "source": [
        "The three circles are almost the same, the difference is their position. The radius is $r = 1$, centered ($x_0$ and $y_0$) on (0,0), ($-\\sqrt{2}$,$-\\sqrt{2}$), ($\\sqrt{2}$,$-\\sqrt{2}$). The line is $y = 2$. \n",
        "\n",
        "- The line function: $y = x^2$ \n",
        "\n",
        "- The circle function: $(x + x_0)^2 + (y + y_0)^2 = r^2$\n",
        "\n",
        "\n"
      ],
      "metadata": {
        "id": "zUhk9YqyIE1x"
      }
    },
    {
      "cell_type": "markdown",
      "source": [
        "**THE SQUARE:** The best area of ​​the square in this case is with its vertices at the intersection points of the circles. As the verices are mirrored, if we find two, we automatically find the other two.\n",
        "\n",
        "To find the points of intersection, we have to take the function of two circles and equate them, with the purpose of finding the points $x$ and $y$ that are the same for both functions."
      ],
      "metadata": {
        "id": "3kMCKpU4H26L"
      }
    },
    {
      "cell_type": "markdown",
      "source": [
        "$x^2+y^2 = 1^2 \\rightarrow x^2+y^2 -1 = 0$ \n",
        "\n",
        "and\n",
        "\n",
        " $(x-\\sqrt{2})^2+(y+\\sqrt{2})^2=1^2=(x-x_{center})^2+(y-y_{center})^2 \\rightarrow (x-\\sqrt{2})^2+(y+\\sqrt{2})^2 - 1=0 $\n",
        "\n",
        "Equating the equations to find where the $x$ and $y$ coordinates are the same.\n",
        "\n",
        "\n",
        "$x^2+y^2 -1 =(x-\\sqrt{2})^2+(y+\\sqrt{2})^2 - 1 \\rightarrow x^2 - x^2 + 2\\sqrt{2}x - 2 + y^2 -y^2 - 2\\sqrt{2}y - 2 = 0 \\rightarrow$ $x - y = \\frac{2}{\\sqrt{2}} \\rightarrow x = y + 2/\\sqrt{2}$, this value of $x$ is the same for both equations, with this we can substitute for any of the two equations to find the $y$ which is the same for both, let's choose the easiest equation:\n",
        "\n",
        "$x^2 + y^2 = 1 \\rightarrow y^2 + (y + 2/\\sqrt{2})^2 = 1 \\rightarrow y^2 + 4/\\sqrt{2}y + 2 + y^2 = 1 \\rightarrow 2y^2 + 4/\\sqrt{2}y + 1 = 0$, "
      ],
      "metadata": {
        "id": "b3Cqr8kXLNl2"
      }
    },
    {
      "cell_type": "markdown",
      "source": [
        "\n",
        "$2y^2 + 4/\\sqrt{2}y + 1 = 0$\n",
        "\n",
        "We have a quadratic equation, we can solve it by bhaskara and it returns two values ​​for $y$, because it is a circle we have the top and  the opposite part. Finding the $y$, we can substitute and find the $x$ and so we have the coordinates, taking its negative values, we have all the vertices of the square (its limits, and with it its sides)."
      ],
      "metadata": {
        "id": "nzYKdkpF9LY9"
      }
    },
    {
      "cell_type": "markdown",
      "source": [
        "$x$ goes from $-1/\\sqrt{2}$ to $+1/\\sqrt{2}$ and $y$ goes from $-2$ to $\\frac{2\\sqrt{2} - 1}{\\sqrt{2}} - 2$."
      ],
      "metadata": {
        "id": "Qtk_mbg8_Kmh"
      }
    },
    {
      "cell_type": "code",
      "source": [
        "import numpy as np\n",
        "import matplotlib.pyplot as plt\n",
        "import random\n",
        "N = 10000 # Number of numbers drawn.\n",
        "\n",
        "# Random number generator\n",
        "a,b,c = 1029,221591,1048576\n",
        "seed = 3072\n",
        "def rand(): # Generates values ​​between 0 to 1.\n",
        "  global seed\n",
        "  seed = (a * seed + b)%c\n",
        "  return float(seed/c)\n",
        "\n",
        "# Functions:\n",
        "# Center coordinates.\n",
        "x10,y10 = 0,0 \n",
        "x20,y20 = np.sqrt(2),np.sqrt(2)\n",
        "x30,y30 = -np.sqrt(2),np.sqrt(2)\n",
        "def f(x,y):\n",
        "  r = (x + x10)**2 + (y + y10)**2 # Circle r^2 = (x + x0)^2 + (y + y0)^2 -> r = np.sqrt((x + x10)**2 + (y + y10)**2), because r = 1\n",
        "  return r # it doesn't matter if it has square root or not.\n",
        "\n",
        "def f2(x,y):\n",
        "  r = (x + x20)**2 + (y + y20)**2 \n",
        "  return r\n",
        "\n",
        "def f3(x,y):\n",
        "  r = (x + x30)**2 + (y + y30)**2\n",
        "  return r\n",
        "\n",
        "count1,count2,count3,count4 = 0,0,0,0 \n",
        "list_x1,list_y1 = [],[]\n",
        "list_x2,list_y2 = [],[]\n",
        "list_x3,list_y3 = [],[]\n",
        "list_x4,list_y4 = [],[]\n",
        "\n",
        "for i in range(N):\n",
        "  x = 2/((2)**0.5) * rand() - 1/np.sqrt(2) # Coordinates of random numbers (size of square).\n",
        "  y = ((2 * np.sqrt(2) - 1)/(np.sqrt(2))) * rand() - 2 # Intersection points of circles.\n",
        "  '''x = 4 * rand() - 2\n",
        "  y = 4 * rand() - 2'''\n",
        "\n",
        "  '''x = 8 * rand() - 4\n",
        "  y = 8 * rand() - 4'''\n",
        "  \n",
        "\n",
        "  if f(x,y) >= 1: # if the random number is outside the circle (0,0).\n",
        "    if f2(x,y) >= 1: # if the random number is outside the circle (np.sqrt(2),np.sqrt(2)).\n",
        "      count1 =+ 1\n",
        "      list_x1.append(x) \n",
        "      list_y1.append(y)\n",
        "      if f3(x,y) >= 1: # if the random number is outside the circle (-np.sqrt(2),np.sqrt(2)).\n",
        "        count3 =+ 1\n",
        "        list_x3.append(x)\n",
        "        list_y3.append(y)\n",
        "        if y > -2: # if the random number is above the line.\n",
        "          count4 =+ 1 # So this is the count of times the random number was outside all the circles and on top of the line.\n",
        "          list_x4.append(x)\n",
        "          list_y4.append(y)\n",
        "    else:\n",
        "      count2 =+ 1\n",
        "      list_x2.append(x)\n",
        "      list_y2.append(y)\n",
        "At = (2/((2)**0.5) - 1/np.sqrt(2) + 1/np.sqrt(2))*(((2 * np.sqrt(2) - 1)/(np.sqrt(2))) - 2 + 2) \n",
        "Ai = At * (count4/N) # Square's area of ​​interest = total area of ​​square * (counts / ntotal number that was drawn) \n",
        "print('The area is',Ai)\n",
        "plt.scatter(list_x1,list_y1)\n",
        "plt.scatter(list_x2,list_y2)\n",
        "plt.scatter(list_x3,list_y3)\n",
        "plt.scatter(list_x4,list_y4) "
      ],
      "metadata": {
        "id": "EoAsKOGy_zuu",
        "colab": {
          "base_uri": "https://localhost:8080/",
          "height": 300
        },
        "outputId": "92c8ceaf-bd69-4718-ae8d-ea7bcba08d09"
      },
      "execution_count": 6,
      "outputs": [
        {
          "output_type": "stream",
          "name": "stdout",
          "text": [
            "The area is 0.00018284271247461902\n"
          ]
        },
        {
          "output_type": "execute_result",
          "data": {
            "text/plain": [
              "<matplotlib.collections.PathCollection at 0x7f85fa19d990>"
            ]
          },
          "metadata": {},
          "execution_count": 6
        },
        {
          "output_type": "display_data",
          "data": {
            "text/plain": [
              "<Figure size 432x288 with 1 Axes>"
            ],
            "image/png": "[encoded data removed]"
          },
          "metadata": {
            "needs_background": "light"
          }
        }
      ]
    },
    {
      "cell_type": "markdown",
      "source": [
        "Larger square, for a better view"
      ],
      "metadata": {
        "id": "t3DuRcLYGVYF"
      }
    },
    {
      "cell_type": "code",
      "source": [
        "import numpy as np\n",
        "import matplotlib.pyplot as plt\n",
        "import random\n",
        "N = 10000 # Number of numbers drawn.\n",
        "\n",
        "# Random number generator\n",
        "a,b,c = 1029,221591,1048576\n",
        "seed = 3072\n",
        "def rand(): # Generates values ​​between 0 to 1.\n",
        "  global seed\n",
        "  seed = (a * seed + b)%c\n",
        "  return float(seed/c)\n",
        "\n",
        "# Functions:\n",
        "# Center coordinates.\n",
        "x10,y10 = 0,0 \n",
        "x20,y20 = np.sqrt(2),np.sqrt(2)\n",
        "x30,y30 = -np.sqrt(2),np.sqrt(2)\n",
        "def f(x,y):\n",
        "  r = (x + x10)**2 + (y + y10)**2 # Circle r^2 = (x + x0)^2 + (y + y0)^2 -> r = np.sqrt((x + x10)**2 + (y + y10)**2), because r = 1\n",
        "  return r # it doesn't matter if it has square root or not.\n",
        "\n",
        "def f2(x,y):\n",
        "  r = (x + x20)**2 + (y + y20)**2 \n",
        "  return r\n",
        "\n",
        "def f3(x,y):\n",
        "  r = (x + x30)**2 + (y + y30)**2\n",
        "  return r\n",
        "\n",
        "count1,count2,count3,count4 = 0,0,0,0 \n",
        "list_x1,list_y1 = [],[]\n",
        "list_x2,list_y2 = [],[]\n",
        "list_x3,list_y3 = [],[]\n",
        "list_x4,list_y4 = [],[]\n",
        "\n",
        "for i in range(N):\n",
        "  '''x = 2/((2)**0.5) * rand() - 1/np.sqrt(2) # Coordinates of random numbers (size of square).\n",
        "  y = ((2 * np.sqrt(2) - 1)/(np.sqrt(2))) * rand() - 2 # Intersection points of circles.'''\n",
        "  '''x = 4 * rand() - 2\n",
        "  y = 4 * rand() - 2'''\n",
        "\n",
        "  x = 8 * rand() - 4\n",
        "  y = 8 * rand() - 4\n",
        "  \n",
        "\n",
        "  if f(x,y) >= 1: # if the random number is outside the circle (0,0).\n",
        "    if f2(x,y) >= 1: # if the random number is outside the circle (np.sqrt(2),np.sqrt(2)).\n",
        "      count1 =+ 1\n",
        "      list_x1.append(x) \n",
        "      list_y1.append(y)\n",
        "      if f3(x,y) >= 1: # if the random number is outside the circle (-np.sqrt(2),np.sqrt(2)).\n",
        "        count3 =+ 1\n",
        "        list_x3.append(x)\n",
        "        list_y3.append(y)\n",
        "        if y > -2: # if the random number is above the line.\n",
        "          count4 =+ 1 # So this is the count of times the random number was outside all the circles and on top of the line.\n",
        "          list_x4.append(x)\n",
        "          list_y4.append(y)\n",
        "    else:\n",
        "      count2 =+ 1\n",
        "      list_x2.append(x)\n",
        "      list_y2.append(y)\n",
        "At = (2/((2)**0.5) - 1/np.sqrt(2) + 1/np.sqrt(2))*(((2 * np.sqrt(2) - 1)/(np.sqrt(2))) - 2 + 2) \n",
        "Ai = At * (count4/N) # Square's area of ​​interest = total area of ​​square * (counts / ntotal number that was drawn) \n",
        "print('The area is',Ai)\n",
        "plt.scatter(list_x1,list_y1)\n",
        "plt.scatter(list_x2,list_y2)\n",
        "plt.scatter(list_x3,list_y3)\n",
        "plt.scatter(list_x4,list_y4) "
      ],
      "metadata": {
        "colab": {
          "base_uri": "https://localhost:8080/",
          "height": 300
        },
        "id": "p2_UYxwMGeX8",
        "outputId": "f5e55301-cffe-4591-acba-07e2c885d0ea"
      },
      "execution_count": 7,
      "outputs": [
        {
          "output_type": "stream",
          "name": "stdout",
          "text": [
            "The area is 0.00018284271247461902\n"
          ]
        },
        {
          "output_type": "execute_result",
          "data": {
            "text/plain": [
              "<matplotlib.collections.PathCollection at 0x7f85fa16d0d0>"
            ]
          },
          "metadata": {},
          "execution_count": 7
        },
        {
          "output_type": "display_data",
          "data": {
            "text/plain": [
              "<Figure size 432x288 with 1 Axes>"
            ],
            "image/png": "[encoded data removed]"
          },
          "metadata": {
            "needs_background": "light"
          }
        }
      ]
    }
  ]
}