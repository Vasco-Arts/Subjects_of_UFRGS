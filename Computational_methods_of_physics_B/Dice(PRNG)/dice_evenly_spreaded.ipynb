{
  "nbformat": 4,
  "nbformat_minor": 0,
  "metadata": {
    "colab": {
      "provenance": [],
      "collapsed_sections": [],
      "authorship_tag": "ABX9TyNn8B7QHDj7e9zUC4tT7utT"
    },
    "kernelspec": {
      "name": "python3",
      "display_name": "Python 3"
    },
    "language_info": {
      "name": "python"
    }
  },
  "cells": [
    {
      "cell_type": "markdown",
      "source": [
        "**$\\underline{Evenly\\hspace{0.2cm} Spreaded\\hspace{0.2cm} Generator}$ $(a\\hspace{0.2cm} Game\\hspace{0.2cm} of\\hspace{0.2cm} Dice)$**"
      ],
      "metadata": {
        "id": "g-ZOcK-EbSo0"
      }
    },
    {
      "cell_type": "markdown",
      "source": [
        "Here we are going to simulate a game of dice, with an unbiased dice."
      ],
      "metadata": {
        "id": "7bybk90Jdf8u"
      }
    },
    {
      "cell_type": "markdown",
      "source": [
        "probabilidade = quantas vezes aconteceu/quantas vezes foi jogado (ou numero total de tentativas) -> $P(x) = \\frac{N_x}{N}$, $x$ = valor do dado."
      ],
      "metadata": {
        "id": "-qH-gBB6beYj"
      }
    },
    {
      "cell_type": "markdown",
      "source": [
        "Probability $=$ number of times it happened divided by the number of times it was played (total number of attempts) $→$ $P(x) = \\frac{N_x}{N}$, $x$ = dice value."
      ],
      "metadata": {
        "id": "qJ19vHcXb9oA"
      }
    },
    {
      "cell_type": "code",
      "source": [
        "import numpy as np\n",
        "import matplotlib.pyplot as plt\n",
        "t,tf = 0, 1000000  #5 \n",
        "a = 1029; b = 221291; c = 1048576; seed = 32072\n",
        "N1,N2,N3,N4,N5,N6 = 0,0,0,0,0,0 # Dice's sides.\n",
        "\n",
        "def rand(): \n",
        "  global seed \n",
        "  seed = (seed * a + b) % c\n",
        "  return float(seed)/c\n",
        "\n",
        "def dice():\n",
        "  dice = int(6 * rand()) + 1\n",
        "  return dice\n",
        "\n",
        "list_x = [1,2,3,4,5,6]\n",
        "list_y = []\n",
        "\n",
        "while t < tf: # tf = Number of times the dice was rolled. \n",
        "  k = dice()\n",
        "  if k == 1:\n",
        "    N1 = N1 + 1 # This is to count the number of times the Nx (N1 in this case) side was selected.\n",
        "  if k == 2:\n",
        "    N2 = N2 + 1\n",
        "  if k == 3:\n",
        "    N3 = N3 + 1\n",
        "  if k == 4:\n",
        "    N4 = N4 + 1\n",
        "  if k == 5:\n",
        "    N5 = N5 + 1\n",
        "  if k == 6:\n",
        "    N6 = N6 + 1\n",
        "\n",
        "  '''\n",
        "  # To control, for large loops, we remove (comment):\n",
        "  print('\\nnumber just selected now',k)\n",
        "  print('times it was selected the 1 = ',N1)\n",
        "  print('times it was selected the 2 = ',N2)\n",
        "  print('times it was selected the 3 = ',N3)\n",
        "  print('times it was selected the 4 = ',N4)\n",
        "  print('times it was selected the 5 = ',N5)\n",
        "  print('times it was selected the 6 = ',N6)\n",
        "  '''\n",
        "\n",
        "  t = t + 1\n",
        "  \n",
        "# P1 = N/t\n",
        "\n",
        "list_y.append(N1/t)\n",
        "list_y.append(N2/t)\n",
        "list_y.append(N3/t)\n",
        "list_y.append(N4/t)\n",
        "list_y.append(N5/t)\n",
        "list_y.append(N6/t)\n",
        "\n",
        "plt.bar(list_x,list_y)\n",
        "plt.title('Histogram of a Played Dice')\n",
        "plt.xlabel('Sides of the Dice')\n",
        "plt.ylabel('Number of Times Played')\n",
        "plt.show()"
      ],
      "metadata": {
        "colab": {
          "base_uri": "https://localhost:8080/",
          "height": 295
        },
        "id": "b_eDQJSzb7Gh",
        "outputId": "8a13e8a4-981c-4f36-c9e3-f76009350d5a"
      },
      "execution_count": 11,
      "outputs": [
        {
          "output_type": "display_data",
          "data": {
            "text/plain": [
              "<Figure size 432x288 with 1 Axes>"
            ],
            "image/png": "[encoded data removed]"
          },
          "metadata": {
            "needs_background": "light"
          }
        }
      ]
    },
    {
      "cell_type": "markdown",
      "source": [
        "We can see that for big times played (only for big examples, the probability works), more or less all sides have the same number of times played. With probability of 16% each."
      ],
      "metadata": {
        "id": "TmlicZ5IkGAs"
      }
    }
  ]
}