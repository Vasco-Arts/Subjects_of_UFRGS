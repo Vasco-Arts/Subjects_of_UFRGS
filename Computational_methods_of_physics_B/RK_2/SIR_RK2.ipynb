{
  "nbformat": 4,
  "nbformat_minor": 0,
  "metadata": {
    "colab": {
      "provenance": [],
      "collapsed_sections": [],
      "authorship_tag": "ABX9TyO3aZBr3LYIdYDjLEJe1Mzx"
    },
    "kernelspec": {
      "name": "python3",
      "display_name": "Python 3"
    },
    "language_info": {
      "name": "python"
    }
  },
  "cells": [
    {
      "cell_type": "markdown",
      "source": [
        "**$\\underline{SIR\\hspace{0.2cm} Model\\hspace{0.2cm} Applied\\hspace{0.2cm} to\\hspace{0.2cm} the\\hspace{0.2cm} Black\\hspace{0.2cm} Death}$**"
      ],
      "metadata": {
        "id": "fgI3vEi_rU4K"
      }
    },
    {
      "cell_type": "markdown",
      "source": [
        "The data was taken from this [research article](https://www.pnas.org/doi/full/10.1073/pnas.1715640115). The data are from ectoparasite model, for the city of Barcelona."
      ],
      "metadata": {
        "id": "OfzKutgJ_U3X"
      }
    },
    {
      "cell_type": "markdown",
      "source": [
        "The difference of our code is that we used Euler's method (and RK!), in the article is used stochastic process."
      ],
      "metadata": {
        "id": "QJNeY3jhCRjk"
      }
    },
    {
      "cell_type": "markdown",
      "source": [
        "**Parameters:**"
      ],
      "metadata": {
        "id": "cs2dANl3BJJZ"
      }
    },
    {
      "cell_type": "markdown",
      "source": [
        "$\\beta_{low} =$ Transmission rate for bubonic plague from mildly infectious humans to body lice.\n",
        "\n",
        "$\\beta_{high} =$ Transmission rate for bubonic plague from highly infectious humans to body lice.\n",
        "\n",
        "$\\frac{1}{\\sigma_b} = \\sigma_b^{-1} =$ Average low infectious period for bubonic plague.\n",
        "\n",
        "$g_h =$ Probability of recovery from bubonic plague.\n",
        "\n",
        "$\\frac{1}{\\gamma_b} = \\gamma_b^{-1} =$ Average high infectious period for bubonic plague.\n",
        "\n",
        "$\\gamma_I =$ Average infectious period for bubonic plague.\n",
        "\n",
        "$\\beta_l =$ Transmission rate for bubonic plague from body lice to humans.\n",
        "\n",
        "$K_l =$ Lice index at carrying capacity. \n",
        "\n",
        "$r_l =$ Natural lice growth rate.\n",
        "\n",
        "$I_{low} =$ Infectious with mild bacteremia (bacteria in the blood).\n",
        "\n",
        "$I_{high} =$ Infectious with high bacteremia (bacteria in the blood).\n",
        "\n",
        "$S_h =$ Susceptible.\n",
        "\n",
        "$S_l =$ The susceptible that carry the lice.\n",
        "\n",
        "$R_h =$ Recovered.\n",
        "\n",
        "$D_h =$ Dead.\n",
        "\n",
        "$N_h =$ Total living population.\n",
        "\n",
        "$N_l =$ All the people that carrying the lice, susceptible or not."
      ],
      "metadata": {
        "id": "LZxE9qfXBMNl"
      }
    },
    {
      "cell_type": "markdown",
      "source": [
        "**Equation:**"
      ],
      "metadata": {
        "id": "aGV7oYwpGokU"
      }
    },
    {
      "cell_type": "markdown",
      "source": [
        "$\\frac{dS_h}{dt} = -\\beta_l\\frac{S_h I_l}{N_h}$\n",
        "\n",
        "$\\frac{dI_{low}}{dt} = \\beta_l\\frac{S_h I_l}{N_h} - \\sigma_b I_{low}$\n",
        "\n",
        "$\\frac{dI_{high}}{dt} = (1-g_h)\\sigma_b I_{low} - \\gamma_b I_{high}$\n",
        "\n",
        "$\\frac{dR_h}{dt} = g_h\\sigma_b I_{low}$\n",
        "\n",
        "$\\frac{dD_h}{dt} = \\gamma_b I_{high}$\n",
        "\n",
        "$\\frac{dS_l}{dt} = r_lS_l(1-N_l/K_l)-[(\\beta_{low}I_{low}+\\beta_{high}I_{high})S_l/N_h]$\n",
        "\n",
        "$\\frac{dI_l}{dt} = [(\\beta_{low}I_{low}+\\beta_{high}I_{high})S_l/N_h] - \\gamma_I I_l$\n",
        "\n",
        "$N_h = S_h + I_{low} + I_{high} + R_h$"
      ],
      "metadata": {
        "id": "5B1-4aiLGxsP"
      }
    },
    {
      "cell_type": "markdown",
      "source": [
        "**The equation using Euler's method of integration:**"
      ],
      "metadata": {
        "id": "buqpmuu4G3jL"
      }
    },
    {
      "cell_type": "markdown",
      "source": [
        "$S(t + \\Delta t) - S(t) = dS → S(t + \\Delta t) = S(t) + dS$ \n",
        "\n",
        "and\n",
        "\n",
        "$\\frac{dS}{dt} = -\\beta \\frac{Sl}{N} →dS = -\\beta\\frac{Sl}{N}dt$\n",
        "\n",
        "The equation in the code becomes: $S(t + \\Delta t) = S(t) - \\beta\\frac{S(t)l}{N}\\Delta t$. So\n",
        "\n",
        "\n",
        "$S_h(t + \\Delta t) = S_h(t) - \\beta_l\\frac{S_h(t)I_l}{N_h}\\Delta t$\n",
        "\n",
        "$I_{low}(t + \\Delta t) = I_{low}(t) + (\\beta\\frac{S_h(t)I_l}{N} - \\sigma_bI_{low})\\Delta t$ \n",
        "\n",
        "$I_{high}(t + \\Delta t) = I_{high}(t) + ((1-g_h)\\sigma_b I_{low} - \\gamma_b I_{high})\\Delta t$\n",
        "\n",
        "$R_h(t + \\Delta t) = R_h(t) + (g_h\\sigma_b I_{low})\\Delta t$\n",
        "\n",
        "$D_h(t + \\Delta t) = D_h(t) + (\\gamma_b I_{high})\\Delta t$\n",
        "\n",
        "$S_l(t + \\Delta t) = S_l(t) + (r_lS_l(1-N_l/K_l)-[(\\beta_{low}I_{low}+ \\beta_{high}I_{high})S_l/N_h])\\Delta t$\n",
        "\n",
        "\n",
        "$I_l(t + \\Delta t) = I_l(t) + ([(\\beta_{low}I_{low}+\\beta_{high}I_{high})S_l/N_h] - \\gamma_I I_l)\\Delta t$\n",
        "\n",
        "\n",
        "\n",
        "$N_h = S_h + I_{low} + I_{high} + R_h$\n",
        "\n",
        "$i = I_{low} + I_{high}$\n",
        "\n"
      ],
      "metadata": {
        "id": "bfOspF58G4Bx"
      }
    },
    {
      "cell_type": "markdown",
      "source": [
        "**The code**"
      ],
      "metadata": {
        "id": "MmBixuiEJHXY"
      }
    },
    {
      "cell_type": "code",
      "execution_count": null,
      "metadata": {
        "id": "lUKFkPe1rROD",
        "colab": {
          "base_uri": "https://localhost:8080/",
          "height": 295
        },
        "outputId": "61c27152-43ff-4817-a793-6b602853b221"
      },
      "outputs": [
        {
          "output_type": "display_data",
          "data": {
            "text/plain": [
              "<Figure size 432x288 with 1 Axes>"
            ],
            "image/png": "[encoded data removed]"
          },
          "metadata": {
            "needs_background": "light"
          }
        }
      ],
      "source": [
        "import numpy as np\n",
        "import matplotlib.pyplot as plt\n",
        "\n",
        "# Conditions (constants):\n",
        "b_low = (0.001 + 0.05)/2# U(0.001,0.05) Doing the averaging = 0.001 + 0.05/2 (because its not stochastic our method).\n",
        "b_high = (0.001 + 1)/2 # U(0.001,1).\n",
        "b_l = 0.05\n",
        "sig_b = 1/8 # Days.\n",
        "y_b = 1/2 # Days. yb⁻1 = 2, yb = 1/2. \n",
        "y_i = 1/3 \n",
        "g_h = 0.1 # Seems to be dimensionless.\n",
        "k_l = 15.0 # Per person.\n",
        "r_l = 0.11 # Per day.\n",
        "\n",
        "# Initial values (not constants):\n",
        "N_l = 10 # Chosen value, because there is no value in the article.\n",
        "N_h = 1000\n",
        "s_h = 0.5005 * N_h\n",
        "s_l = 10\n",
        "i_l = 1\n",
        "i_low = 5\n",
        "i_high = 2\n",
        "d = 1\n",
        "R = 0\n",
        "i = 0 \n",
        "dt,t,days = 0.1,0, 450\n",
        "\n",
        "# Lists:\n",
        "list_S,list_t,list_R,list_Ilow,list_D,list_I = [s_h],[t],[R],[i_low],[d],[i]\n",
        "list_Ihigh = [i_high]\n",
        "\n",
        "while t < days:\n",
        "  a = s_h # Auxiliary variable, using on parameters that are not constant.\n",
        "  s_h = s_h - b_l * ((s_h * i_l)/N_h) * dt\n",
        "  list_S.append(s_h)\n",
        "\n",
        "  c = i_low\n",
        "  i_low = i_low + (((b_l * a * i_l)/N_h) - sig_b * i_low) * dt\n",
        "  list_Ilow.append(i_low)\n",
        "  \n",
        "  e = i_high\n",
        "  i_high = i_high + (((1 - g_h) * sig_b * c) - (y_b * i_high)) * dt\n",
        "  list_Ihigh.append(i_high)\n",
        "  \n",
        "  i = i_high + i_low\n",
        "  list_I.append(i)\n",
        "\n",
        "  f = R\n",
        "  R = R + (g_h * sig_b * c) * dt\n",
        "  list_R.append(R)\n",
        "\n",
        "  g = d\n",
        "  d = d + (y_b * e) * dt \n",
        "  list_D.append(d) # d - g = deaths per day/time \"step\".\n",
        "\n",
        "  h = s_l\n",
        "  s_l = s_l + (((1 - N_l/k_l) * r_l * s_l) - ((b_low * c + b_high * e) * (s_l/N_h))) * dt\n",
        "  \n",
        "  j = i_l\n",
        "  i_l = i_l + (((b_low * c + b_high * e) * (h/N_h)) - y_i * i_l) * dt\n",
        "  \n",
        "  N_h = a + c + e + f\n",
        "\n",
        "  t = t + dt\n",
        "  list_t.append(t)\n",
        "\n",
        "plt.plot(list_t,list_S)\n",
        "plt.plot(list_t,list_D)\n",
        "plt.plot(list_t,list_I)\n",
        "plt.plot(list_t,list_R)\n",
        "plt.title('SIR in the Black Death (with summed results)')\n",
        "plt.legend(['Susceptible','Dead','Infected','Recovered'])\n",
        "plt.ylabel('People')\n",
        "plt.xlabel('Days')\n",
        "plt.show()"
      ]
    },
    {
      "cell_type": "markdown",
      "source": [
        "Using Runge-Kutta $2^{nd}$ order (RK 2) model, just to be sure that the Euler method is correct (this method is not always correct, the error can be seen in elastic code here in my GitHub)."
      ],
      "metadata": {
        "id": "yqdRuQaUJT7x"
      }
    },
    {
      "cell_type": "code",
      "source": [
        "import numpy as np\n",
        "import matplotlib.pyplot as plt\n",
        "import scipy.integrate as scipy\n",
        "\n",
        "'''                   To check if Euler can be applied, was chosen to use RK2 to verify if the results are the same                    '''\n",
        "# Conditions (constants):\n",
        "b_low = (0.001 + 0.05)/2# U(0.001,0.05) Doing the averaging = 0.001 + 0.05/2 (because its not stochastic our method).\n",
        "b_high = (0.001 + 1)/2 # U(0.001,1).\n",
        "b_l = 0.05\n",
        "sig_b = 1/8 # Days.\n",
        "y_b = 1/2 # Days. yb⁻1 = 2, yb = 1/2.\n",
        "y_i = 1/3\n",
        "g_h = 0.1 # Seems to be dimensionless.\n",
        "k_l = 15.0 # Per person.\n",
        "r_l = 0.11 # Per day.\n",
        "\n",
        "# Initial values (not constants):\n",
        "N_l = 10 # Chosen value, because there is no value in the article.\n",
        "N_h = 1000\n",
        "s_h = 0.5005 * N_h\n",
        "s_l = 10\n",
        "i_l = 1\n",
        "i_low = 5\n",
        "i_high = 2\n",
        "d = 1\n",
        "R = 0\n",
        "i = 0\n",
        "dt,t,days = 0.1,0,450\n",
        "\n",
        "# Lists:\n",
        "list_S,list_t,list_R,list_I,list_D = [s_h],[t],[R],[i_low],[d]\n",
        "list_Sl,list_Ilow = [s_l],[i_l]\n",
        "\n",
        "while t < days:\n",
        "  a = s_h # Auxiliary variable, using on parameters that are not constant.\n",
        "  s_h = s_h - b_l * ((s_h * i_l)/N_h) * dt/2\n",
        "  s_h_2 = a - b_l * ((s_h * i_l)/N_h) * dt\n",
        "  list_S.append(s_h_2)\n",
        "\n",
        "  c = i_low\n",
        "  i_low = i_low + (((b_l * a * i_l)/N_h) - sig_b * i_low) * dt/2\n",
        "  i_low_2 = c + (((b_l * a * i_l)/N_h) - sig_b * i_low) * dt\n",
        "\n",
        "  e = i_high\n",
        "  i_high = i_high + (((1 - g_h) * sig_b * c) - (y_b * i_high)) * dt/2\n",
        "  i_high_2 = e + (((1 - g_h) * sig_b * c) - (y_b * i_high)) * dt\n",
        "\n",
        "  i = i_low + i_high\n",
        "  list_I.append(i)\n",
        "\n",
        "  f = R\n",
        "  R = R + (g_h * sig_b * c) * dt/2\n",
        "  R_2 = f + (g_h * sig_b * c) * dt\n",
        "  list_R.append(R_2)\n",
        "\n",
        "  g = d\n",
        "  d = d + (y_b * e) * dt/2\n",
        "  d_2 = g + (y_b * e) * dt\n",
        "  list_D.append(d_2)\n",
        "\n",
        "  h = s_l\n",
        "  s_l = s_l + (((1 - (N_l/k_l)) * r_l * s_l) - ((b_low * c + b_high * e) * (s_l/N_h))) * dt/2\n",
        "  s_l_2 = h + (((1 - (N_l/k_l)) * r_l * s_l) - ((b_low * c + b_high * e) * (s_l/N_h))) * dt\n",
        "  #list_Sl.append(s_l2)\n",
        "  \n",
        "  j = i_l\n",
        "  i_l = i_l + (((b_low * c + b_high * e) * (h/N_h)) - y_i * i_l) * dt/2\n",
        "  i_l_2 = j + (((b_low * c + b_high * e) * (h/N_h)) - y_i * i_l) * dt\n",
        "  #list_Ilow.append(i_l2)\n",
        "  \n",
        "  N_h = a + c + e + f\n",
        "\n",
        "  s_h = s_h_2\n",
        "  i_low = i_low_2\n",
        "  i_high = i_high_2\n",
        "  R = R_2\n",
        "  d = d_2\n",
        "  s_l = s_l_2\n",
        "  i_l = i_l_2\n",
        "\n",
        "  t = t + dt\n",
        "  list_t.append(t)\n",
        "\n",
        "plt.plot(list_t,list_S)\n",
        "plt.plot(list_t,list_D)\n",
        "plt.plot(list_t,list_I)\n",
        "plt.plot(list_t,list_R)\n",
        "plt.title('SIR applied to black plague with RK 2')\n",
        "plt.ylabel('People')\n",
        "plt.xlabel('Time (days)')\n",
        "plt.legend(['Susceptible','Dead','Infected','Recovered'])\n",
        "plt.show()"
      ],
      "metadata": {
        "colab": {
          "base_uri": "https://localhost:8080/",
          "height": 295
        },
        "id": "-w3V5kLaJTBQ",
        "outputId": "a0eec743-2614-4e2e-aa5e-a698259d0891"
      },
      "execution_count": null,
      "outputs": [
        {
          "output_type": "display_data",
          "data": {
            "text/plain": [
              "<Figure size 432x288 with 1 Axes>"
            ],
            "image/png": "[encoded data removed]"
          },
          "metadata": {
            "needs_background": "light"
          }
        }
      ]
    },
    {
      "cell_type": "code",
      "source": [
        "import numpy as np\n",
        "import matplotlib.pyplot as plt\n",
        "\n",
        "# Conditions (constants):\n",
        "b_low = (0.001 + 0.05)/2# U(0.001,0.05) Doing the averaging = 0.001 + 0.05/2 (because its not stochastic our method).\n",
        "b_high = (0.001 + 1)/2 # U(0.001,1).\n",
        "b_l = 0.05\n",
        "sig_b = 1/8 # days.\n",
        "y_b = 0.2 # days. yb⁻1 = 2, yb = 1/2.\n",
        "y_i = 1/3 \n",
        "g_h = 0.1 # Seems to be dimensionless.\n",
        "k_l = 15.0 # Per person.\n",
        "r_l = 0.11 # Per day.\n",
        "\n",
        "# Initial values (not constants):\n",
        "N_l = 10 # Chosen value, because there is no value in the article.\n",
        "N_h = 25000\n",
        "s_h = 0.5005 * N_h\n",
        "s_l = 1\n",
        "i_l = 1\n",
        "i_low = 5\n",
        "i_high = 2\n",
        "d = 1\n",
        "R = 0\n",
        "i = 0\n",
        "dt,t,days = 0.1,0, 500\n",
        "\n",
        "# Lists:\n",
        "list_S,list_t,list_R,list_ilow,list_D,list_I = [s_h],[t],[R],[i_low],[d],[i]\n",
        "list_ihigh = [i_high]\n",
        "\n",
        "while t < days:\n",
        "  a = s_h # Auxiliary variable, using on parameters that are not constant.\n",
        "  s_h = s_h - b_l * ((s_h * i_l)/N_h) * dt\n",
        "  list_S.append(s_h)\n",
        "\n",
        "  c = i_low\n",
        "  i_low = i_low + (((b_l * a * i_l)/N_h) - sig_b * i_low) * dt\n",
        "  list_ilow.append(i_low)\n",
        "  \n",
        "  e = i_high\n",
        "  i_high = i_high + (((1 - g_h) * sig_b * c) - (y_b * i_high)) * dt\n",
        "  list_ihigh.append(i_high)\n",
        "  \n",
        "  i = i_high + i_low\n",
        "  list_I.append(i)\n",
        "\n",
        "  f = R\n",
        "  R = R + (g_h * sig_b * c) * dt\n",
        "  list_R.append(R)\n",
        "\n",
        "  g = d\n",
        "  d = (y_b * e) * dt \n",
        "  list_D.append(d) # d - g = deaths per day/time \"step\".\n",
        "\n",
        "  h = s_l\n",
        "  s_l = s_l + (((1 - N_l/k_l) * r_l * s_l) - ((b_low * c + b_high * e) * (s_l/N_h))) * dt\n",
        "  \n",
        "  j = i_l\n",
        "  i_l = i_l + (((b_low * c + b_high * e) * (h/N_h)) - y_i * i_l) * dt\n",
        "  \n",
        "  N_h = a + c + e + f\n",
        "\n",
        "  t = t + dt\n",
        "  list_t.append(t)\n",
        "\n",
        "plt.plot(list_t,list_D)\n",
        "plt.legend(['Dead'])\n",
        "plt.ylabel('People')\n",
        "plt.xlabel('Days')\n",
        "plt.title('Dead per day')\n",
        "plt.show()"
      ],
      "metadata": {
        "colab": {
          "base_uri": "https://localhost:8080/",
          "height": 295
        },
        "id": "GcUll2i7JNew",
        "outputId": "fdd99554-6114-4d50-baf8-2061c654d75f"
      },
      "execution_count": null,
      "outputs": [
        {
          "output_type": "display_data",
          "data": {
            "text/plain": [
              "<Figure size 432x288 with 1 Axes>"
            ],
            "image/png": "[encoded data removed]"
          },
          "metadata": {
            "needs_background": "light"
          }
        }
      ]
    }
  ]
}