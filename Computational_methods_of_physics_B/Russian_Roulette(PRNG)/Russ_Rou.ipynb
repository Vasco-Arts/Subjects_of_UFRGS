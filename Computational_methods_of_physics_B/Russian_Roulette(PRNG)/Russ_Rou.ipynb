{
  "nbformat": 4,
  "nbformat_minor": 0,
  "metadata": {
    "colab": {
      "provenance": [],
      "collapsed_sections": [],
      "authorship_tag": "ABX9TyNcwEZADEwrqWiuumwiPQQP"
    },
    "kernelspec": {
      "name": "python3",
      "display_name": "Python 3"
    },
    "language_info": {
      "name": "python"
    }
  },
  "cells": [
    {
      "cell_type": "markdown",
      "source": [
        "**$\\underline{Russian\\hspace{0.2cm} roulette}$**"
      ],
      "metadata": {
        "id": "NtoqTS7WX1aq"
      }
    },
    {
      "cell_type": "markdown",
      "source": [
        "We have 6 positions, one of them is awarded (with a bullet) and we have 6 people. Each person has a pistol.\n"
      ],
      "metadata": {
        "id": "Rskp8I05jqqr"
      }
    },
    {
      "cell_type": "markdown",
      "source": [
        "$P =$ Probability of finding a bullet $= \\frac{1}{6}$.\n",
        "\n",
        "$q =$ Probability of not finding a bullet $= \\frac{5}{6}$."
      ],
      "metadata": {
        "id": "4q4nZtkykNkq"
      }
    },
    {
      "cell_type": "markdown",
      "source": [
        "If it was with just one pistol $\\rightarrow$ $p_1 = 1/6,p_2 = 1/5,p_3 = 1/4$..."
      ],
      "metadata": {
        "id": "fVW5AHfmkp4Y"
      }
    },
    {
      "cell_type": "code",
      "source": [
        "import numpy as np\n",
        "import matplotlib.pyplot as plt\n",
        "a,b,c = 1029,221591,1048576\n",
        "seed = 3072\n",
        "\n",
        "def rand():\n",
        "  global seed\n",
        "  seed = (a * seed + b)%c\n",
        "  return float(seed/c)\n",
        "\n",
        "def coin():\n",
        "  coin = 2 * int(2 * rand()) - 1\n",
        "  return coin\n",
        "\n",
        "# 1/6 is the bullet position, 5/6 are empty spaces.\n",
        "N = 6\n",
        "M = 10000 # Number of times played.\n",
        "t = 0\n",
        "x = 0\n",
        "k = 0 # This is the variable that represents the position in the list.\n",
        "\n",
        "list_j = N * [0] # Player list, creating 6 position with the value 0.\n",
        "list_t = N * [0]\n",
        "\n",
        "for j in range(M):\n",
        "  k = 0 # Back to the starting position of the list.\n",
        "  n = N # n returns to have 6 positions for the next Russian roulette. \n",
        "  \n",
        "  for i in range(N):\n",
        "    p = 1/n\n",
        "    \n",
        "    if rand() < p: # That means, if rand() is not greater or equal than 2/6.   \n",
        "      list_j[k] = list_j[k] + 1 # Take only the rand < p values.\n",
        "      break\n",
        "    \n",
        "    k = k + 1\n",
        "    n = n - 1 # Increases the probability p = 1/(n - 1). \n",
        "     \n",
        "print('Number of Deaths per slots:',list_j)\n",
        "N = 6\n",
        "list_k = []\n",
        "\n",
        "for h in range(N):\n",
        "  list_k.append(h + 1)\n",
        "\n",
        "plt.bar(list_k,list_j) # [1,2,3,4,5,6].\n",
        "plt.title('Number of deaths per slot')\n",
        "plt.xlabel('Revolver Slots')\n",
        "plt.ylabel('Number of deaths')\n",
        "plt.show()"
      ],
      "metadata": {
        "colab": {
          "base_uri": "https://localhost:8080/",
          "height": 312
        },
        "id": "aXwPa373ln9j",
        "outputId": "0f96b95c-2b00-4494-cc77-483675fc37a9"
      },
      "execution_count": 26,
      "outputs": [
        {
          "output_type": "stream",
          "name": "stdout",
          "text": [
            "Number of Deaths per slots: [1619, 1675, 1709, 1708, 1638, 1651]\n"
          ]
        },
        {
          "output_type": "display_data",
          "data": {
            "text/plain": [
              "<Figure size 432x288 with 1 Axes>"
            ],
            "image/png": "[encoded data removed]"
          },
          "metadata": {
            "needs_background": "light"
          }
        }
      ]
    }
  ]
}